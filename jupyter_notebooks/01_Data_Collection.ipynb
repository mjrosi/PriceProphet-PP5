{
 "cells": [
  {
   "cell_type": "markdown",
   "metadata": {
    "id": "0aStgWSO0E0E"
   },
   "source": [
    "# **Data Collection**"
   ]
  },
  {
   "cell_type": "markdown",
   "metadata": {
    "id": "1eLEkw5O0ECa"
   },
   "source": [
    "## Objectives\n",
    "\n",
    "* Fetch data from Kaggle and save as raw data\n",
    "\n",
    "## Inputs\n",
    "\n",
    "* Kaggle JSON file - authentication token to access and download Kaggle data\n",
    "\n",
    "## Outputs\n",
    "\n",
    "* Generate Datasets:\n",
    "    * inputs/datasets/raw/house_price_records.csv\n",
    "    * inputs/datasets/raw/inherited_houses.csv\n",
    "\n",
    "## Additional Comments\n",
    "\n",
    "* The first dataset in the outputs above is the data used to build our machine learning model(s). The second file consists of the inherited houses whose prices our client wants to predict.\n"
   ]
  },
  {
   "cell_type": "markdown",
   "metadata": {
    "id": "9uWZXH9LwoQg"
   },
   "source": [
    "---"
   ]
  },
  {
   "cell_type": "markdown",
   "metadata": {
    "id": "cqP-UeN-z3i2"
   },
   "source": [
    "# Change working directory"
   ]
  },
  {
   "cell_type": "markdown",
   "metadata": {
    "id": "aOGIGS-uz3i2"
   },
   "source": [
    "We need to change the working directory from its current folder to its parent folder\n",
    "* We access the current directory with os.getcwd()"
   ]
  },
  {
   "cell_type": "code",
   "execution_count": 1,
   "metadata": {
    "id": "wZfF_j-Bz3i4",
    "outputId": "66943449-1436-4c3d-85c7-b85f9f78349b"
   },
   "outputs": [
    {
     "output_type": "execute_result",
     "data": {
      "text/plain": "'/workspaces/PriceProphet-PP5/jupyter_notebooks'"
     },
     "metadata": {},
     "execution_count": 1
    }
   ],
   "source": [
    "import os\n",
    "current_dir = os.getcwd()\n",
    "current_dir"
   ]
  },
  {
   "cell_type": "markdown",
   "metadata": {
    "id": "9MWW8E7lz3i7"
   },
   "source": [
    "We want to make the parent of the current directory the new current directory\n",
    "* os.path.dirname() gets the parent directory\n",
    "* os.chir() defines the new current directory"
   ]
  },
  {
   "cell_type": "code",
   "execution_count": 2,
   "metadata": {
    "id": "TwHsQRWjz3i9",
    "outputId": "86849db3-cd2f-4cc5-ebb8-2d0caafa1a2c",
    "tags": []
   },
   "outputs": [
    {
     "output_type": "stream",
     "name": "stdout",
     "text": "You set a new current directory\n"
    }
   ],
   "source": [
    "os.chdir(os.path.dirname(current_dir))\n",
    "print(\"You set a new current directory\")"
   ]
  },
  {
   "cell_type": "markdown",
   "metadata": {
    "id": "M_xPk_Ijz3i-"
   },
   "source": [
    "Confirm the new current directory"
   ]
  },
  {
   "cell_type": "code",
   "execution_count": 3,
   "metadata": {
    "id": "vz3S-_kjz3jA",
    "outputId": "00b79ae4-75d0-4a96-d193-ac9ef9847ea2"
   },
   "outputs": [
    {
     "output_type": "execute_result",
     "data": {
      "text/plain": "'/workspaces/PriceProphet-PP5'"
     },
     "metadata": {},
     "execution_count": 3
    }
   ],
   "source": [
    "current_dir = os.getcwd()\n",
    "current_dir"
   ]
  },
  {
   "cell_type": "markdown",
   "metadata": {
    "id": "-mavJ8DibrcQ"
   },
   "source": [
    "# Fetch raw data from Kaggle"
   ]
  },
  {
   "cell_type": "markdown",
   "metadata": {},
   "source": [
    "First we need to install kaggle to access the kaggle API and to fetch the raw data."
   ]
  },
  {
   "cell_type": "code",
   "execution_count": 4,
   "metadata": {
    "tags": []
   },
   "outputs": [
    {
     "output_type": "stream",
     "name": "stdout",
     "text": "Collecting kaggle==1.5.12\n  Downloading kaggle-1.5.12.tar.gz (58 kB)\n\u001b[2K     \u001b[90m━━━━━━━━━━━━━━━━━━━━━━━━━━━━━━━━━━━━━━━\u001b[0m \u001b[32m59.0/59.0 kB\u001b[0m \u001b[31m878.6 kB/s\u001b[0m eta \u001b[36m0:00:00\u001b[0m\n\u001b[?25h  Preparing metadata (setup.py) ... \u001b[?25ldone\n\u001b[?25hRequirement already satisfied: six>=1.10 in /home/codeany/.pyenv/versions/3.8.12/lib/python3.8/site-packages (from kaggle==1.5.12) (1.16.0)\nRequirement already satisfied: certifi in /home/codeany/.pyenv/versions/3.8.12/lib/python3.8/site-packages (from kaggle==1.5.12) (2023.5.7)\nRequirement already satisfied: python-dateutil in /home/codeany/.pyenv/versions/3.8.12/lib/python3.8/site-packages (from kaggle==1.5.12) (2.8.2)\nRequirement already satisfied: requests in /home/codeany/.pyenv/versions/3.8.12/lib/python3.8/site-packages (from kaggle==1.5.12) (2.31.0)\nCollecting tqdm (from kaggle==1.5.12)\n  Downloading tqdm-4.65.0-py3-none-any.whl (77 kB)\n\u001b[2K     \u001b[90m━━━━━━━━━━━━━━━━━━━━━━━━━━━━━━━━━━━━━━━━\u001b[0m \u001b[32m77.1/77.1 kB\u001b[0m \u001b[31m5.4 MB/s\u001b[0m eta \u001b[36m0:00:00\u001b[0m\n\u001b[?25hCollecting python-slugify (from kaggle==1.5.12)\n  Downloading python_slugify-8.0.1-py2.py3-none-any.whl (9.7 kB)\nRequirement already satisfied: urllib3 in /home/codeany/.pyenv/versions/3.8.12/lib/python3.8/site-packages (from kaggle==1.5.12) (2.0.3)\nCollecting text-unidecode>=1.3 (from python-slugify->kaggle==1.5.12)\n  Downloading text_unidecode-1.3-py2.py3-none-any.whl (78 kB)\n\u001b[2K     \u001b[90m━━━━━━━━━━━━━━━━━━━━━━━━━━━━━━━━━━━━━━━━\u001b[0m \u001b[32m78.2/78.2 kB\u001b[0m \u001b[31m5.0 MB/s\u001b[0m eta \u001b[36m0:00:00\u001b[0m\n\u001b[?25hRequirement already satisfied: charset-normalizer<4,>=2 in /home/codeany/.pyenv/versions/3.8.12/lib/python3.8/site-packages (from requests->kaggle==1.5.12) (3.1.0)\nRequirement already satisfied: idna<4,>=2.5 in /home/codeany/.pyenv/versions/3.8.12/lib/python3.8/site-packages (from requests->kaggle==1.5.12) (3.4)\nBuilding wheels for collected packages: kaggle\n  Building wheel for kaggle (setup.py) ... \u001b[?25ldone\n\u001b[?25h  Created wheel for kaggle: filename=kaggle-1.5.12-py3-none-any.whl size=73031 sha256=1f5d03bb73027c4611c06e551291fdc266e3c1f38274dae53088ccfabdbe55f4\n  Stored in directory: /home/codeany/.cache/pip/wheels/29/da/11/144cc25aebdaeb4931b231e25fd34b394e6a5725cbb2f50106\nSuccessfully built kaggle\nInstalling collected packages: text-unidecode, tqdm, python-slugify, kaggle\nSuccessfully installed kaggle-1.5.12 python-slugify-8.0.1 text-unidecode-1.3 tqdm-4.65.0\n"
    }
   ],
   "source": [
    "! pip install kaggle==1.5.12"
   ]
  },
  {
   "cell_type": "markdown",
   "metadata": {
    "id": "ZY3l0-AxO93d"
   },
   "source": [
    "Make the kaggle authentication token available for the session."
   ]
  },
  {
   "cell_type": "code",
   "execution_count": 6,
   "metadata": {},
   "outputs": [],
   "source": [
    "import os\n",
    "os.environ['KAGGLE_CONFIG_DIR'] = os.getcwd()\n",
    "! chmod 600 kaggle.json"
   ]
  },
  {
   "source": [
    "* Define path to the Kaggle dataset we want to download\n",
    "* Indicate the destination folder for the downloaded data\n",
    "* Download the data"
   ],
   "cell_type": "markdown",
   "metadata": {}
  },
  {
   "source": [
    "KaggleDatasetPath = \"codeinstitute/housing-prices-data\"\n",
    "DestinationFolder = \"inputs/datasets/raw\"   \n",
    "! kaggle datasets download -d {KaggleDatasetPath} -p {DestinationFolder}"
   ],
   "cell_type": "code",
   "metadata": {
    "tags": []
   },
   "execution_count": 7,
   "outputs": [
    {
     "output_type": "stream",
     "name": "stdout",
     "text": "Downloading housing-prices-data.zip to inputs/datasets/raw\n  0%|                                               | 0.00/49.6k [00:00<?, ?B/s]\n100%|██████████████████████████████████████| 49.6k/49.6k [00:00<00:00, 14.0MB/s]\n"
    }
   ]
  },
  {
   "source": [
    "* Unzip the downloaded folder\n",
    "* Remove the zipped folder\n",
    "* Remove the kaggle JSON file"
   ],
   "cell_type": "markdown",
   "metadata": {}
  },
  {
   "cell_type": "code",
   "execution_count": 8,
   "metadata": {
    "tags": []
   },
   "outputs": [
    {
     "output_type": "stream",
     "name": "stdout",
     "text": "Archive:  inputs/datasets/raw/housing-prices-data.zip\n  inflating: inputs/datasets/raw/house-metadata.txt  \n  inflating: inputs/datasets/raw/house-price-20211124T154130Z-001/house-price/house_prices_records.csv  \n  inflating: inputs/datasets/raw/house-price-20211124T154130Z-001/house-price/inherited_houses.csv  \n"
    }
   ],
   "source": [
    "! unzip {DestinationFolder}/*.zip -d {DestinationFolder} \\\n",
    "  && rm {DestinationFolder}/*.zip \\\n",
    "  && rm kaggle.json"
   ]
  },
  {
   "source": [
    "# Load and Inspect Kaggle data"
   ],
   "cell_type": "markdown",
   "metadata": {
    "id": "uFQo3ycuO-v6"
   }
  },
  {
   "cell_type": "markdown",
   "metadata": {},
   "source": [
    "* Import the pandas library\n",
    "* Load the dataset as a pandas DataFrame and assign it to df\n",
    "* View the first five rows of the data in the df variable"
   ]
  },
  {
   "cell_type": "code",
   "execution_count": 10,
   "metadata": {},
   "outputs": [
    {
     "output_type": "execute_result",
     "data": {
      "text/plain": "   1stFlrSF  2ndFlrSF  BedroomAbvGr BsmtExposure  BsmtFinSF1 BsmtFinType1  \\\n0       856     854.0           3.0           No         706          GLQ   \n1      1262       0.0           3.0           Gd         978          ALQ   \n2       920     866.0           3.0           Mn         486          GLQ   \n3       961       NaN           NaN           No         216          ALQ   \n4      1145       NaN           4.0           Av         655          GLQ   \n\n   BsmtUnfSF  EnclosedPorch  GarageArea GarageFinish  ...  LotFrontage  \\\n0        150            0.0         548          RFn  ...         65.0   \n1        284            NaN         460          RFn  ...         80.0   \n2        434            0.0         608          RFn  ...         68.0   \n3        540            NaN         642          Unf  ...         60.0   \n4        490            0.0         836          RFn  ...         84.0   \n\n   MasVnrArea OpenPorchSF  OverallCond  OverallQual  TotalBsmtSF  WoodDeckSF  \\\n0       196.0          61            5            7          856         0.0   \n1         0.0           0            8            6         1262         NaN   \n2       162.0          42            5            7          920         NaN   \n3         0.0          35            5            7          756         NaN   \n4       350.0          84            5            8         1145         NaN   \n\n   YearBuilt  YearRemodAdd  SalePrice  \n0       2003          2003     208500  \n1       1976          1976     181500  \n2       2001          2002     223500  \n3       1915          1970     140000  \n4       2000          2000     250000  \n\n[5 rows x 24 columns]",
      "text/html": "<div>\n<style scoped>\n    .dataframe tbody tr th:only-of-type {\n        vertical-align: middle;\n    }\n\n    .dataframe tbody tr th {\n        vertical-align: top;\n    }\n\n    .dataframe thead th {\n        text-align: right;\n    }\n</style>\n<table border=\"1\" class=\"dataframe\">\n  <thead>\n    <tr style=\"text-align: right;\">\n      <th></th>\n      <th>1stFlrSF</th>\n      <th>2ndFlrSF</th>\n      <th>BedroomAbvGr</th>\n      <th>BsmtExposure</th>\n      <th>BsmtFinSF1</th>\n      <th>BsmtFinType1</th>\n      <th>BsmtUnfSF</th>\n      <th>EnclosedPorch</th>\n      <th>GarageArea</th>\n      <th>GarageFinish</th>\n      <th>...</th>\n      <th>LotFrontage</th>\n      <th>MasVnrArea</th>\n      <th>OpenPorchSF</th>\n      <th>OverallCond</th>\n      <th>OverallQual</th>\n      <th>TotalBsmtSF</th>\n      <th>WoodDeckSF</th>\n      <th>YearBuilt</th>\n      <th>YearRemodAdd</th>\n      <th>SalePrice</th>\n    </tr>\n  </thead>\n  <tbody>\n    <tr>\n      <th>0</th>\n      <td>856</td>\n      <td>854.0</td>\n      <td>3.0</td>\n      <td>No</td>\n      <td>706</td>\n      <td>GLQ</td>\n      <td>150</td>\n      <td>0.0</td>\n      <td>548</td>\n      <td>RFn</td>\n      <td>...</td>\n      <td>65.0</td>\n      <td>196.0</td>\n      <td>61</td>\n      <td>5</td>\n      <td>7</td>\n      <td>856</td>\n      <td>0.0</td>\n      <td>2003</td>\n      <td>2003</td>\n      <td>208500</td>\n    </tr>\n    <tr>\n      <th>1</th>\n      <td>1262</td>\n      <td>0.0</td>\n      <td>3.0</td>\n      <td>Gd</td>\n      <td>978</td>\n      <td>ALQ</td>\n      <td>284</td>\n      <td>NaN</td>\n      <td>460</td>\n      <td>RFn</td>\n      <td>...</td>\n      <td>80.0</td>\n      <td>0.0</td>\n      <td>0</td>\n      <td>8</td>\n      <td>6</td>\n      <td>1262</td>\n      <td>NaN</td>\n      <td>1976</td>\n      <td>1976</td>\n      <td>181500</td>\n    </tr>\n    <tr>\n      <th>2</th>\n      <td>920</td>\n      <td>866.0</td>\n      <td>3.0</td>\n      <td>Mn</td>\n      <td>486</td>\n      <td>GLQ</td>\n      <td>434</td>\n      <td>0.0</td>\n      <td>608</td>\n      <td>RFn</td>\n      <td>...</td>\n      <td>68.0</td>\n      <td>162.0</td>\n      <td>42</td>\n      <td>5</td>\n      <td>7</td>\n      <td>920</td>\n      <td>NaN</td>\n      <td>2001</td>\n      <td>2002</td>\n      <td>223500</td>\n    </tr>\n    <tr>\n      <th>3</th>\n      <td>961</td>\n      <td>NaN</td>\n      <td>NaN</td>\n      <td>No</td>\n      <td>216</td>\n      <td>ALQ</td>\n      <td>540</td>\n      <td>NaN</td>\n      <td>642</td>\n      <td>Unf</td>\n      <td>...</td>\n      <td>60.0</td>\n      <td>0.0</td>\n      <td>35</td>\n      <td>5</td>\n      <td>7</td>\n      <td>756</td>\n      <td>NaN</td>\n      <td>1915</td>\n      <td>1970</td>\n      <td>140000</td>\n    </tr>\n    <tr>\n      <th>4</th>\n      <td>1145</td>\n      <td>NaN</td>\n      <td>4.0</td>\n      <td>Av</td>\n      <td>655</td>\n      <td>GLQ</td>\n      <td>490</td>\n      <td>0.0</td>\n      <td>836</td>\n      <td>RFn</td>\n      <td>...</td>\n      <td>84.0</td>\n      <td>350.0</td>\n      <td>84</td>\n      <td>5</td>\n      <td>8</td>\n      <td>1145</td>\n      <td>NaN</td>\n      <td>2000</td>\n      <td>2000</td>\n      <td>250000</td>\n    </tr>\n  </tbody>\n</table>\n<p>5 rows × 24 columns</p>\n</div>"
     },
     "metadata": {},
     "execution_count": 10
    }
   ],
   "source": [
    "import pandas as pd\n",
    "df = pd.read_csv(f\"inputs/datasets/raw/house_prices_records.csv\")\n",
    "df.head()"
   ]
  },
  {
   "source": [
    "df.info(max_cols=24)"
   ],
   "cell_type": "code",
   "metadata": {
    "tags": []
   },
   "execution_count": 11,
   "outputs": [
    {
     "output_type": "stream",
     "name": "stdout",
     "text": "<class 'pandas.core.frame.DataFrame'>\nRangeIndex: 1460 entries, 0 to 1459\nData columns (total 24 columns):\n #   Column         Non-Null Count  Dtype  \n---  ------         --------------  -----  \n 0   1stFlrSF       1460 non-null   int64  \n 1   2ndFlrSF       1374 non-null   float64\n 2   BedroomAbvGr   1361 non-null   float64\n 3   BsmtExposure   1422 non-null   object \n 4   BsmtFinSF1     1460 non-null   int64  \n 5   BsmtFinType1   1315 non-null   object \n 6   BsmtUnfSF      1460 non-null   int64  \n 7   EnclosedPorch  136 non-null    float64\n 8   GarageArea     1460 non-null   int64  \n 9   GarageFinish   1225 non-null   object \n 10  GarageYrBlt    1379 non-null   float64\n 11  GrLivArea      1460 non-null   int64  \n 12  KitchenQual    1460 non-null   object \n 13  LotArea        1460 non-null   int64  \n 14  LotFrontage    1201 non-null   float64\n 15  MasVnrArea     1452 non-null   float64\n 16  OpenPorchSF    1460 non-null   int64  \n 17  OverallCond    1460 non-null   int64  \n 18  OverallQual    1460 non-null   int64  \n 19  TotalBsmtSF    1460 non-null   int64  \n 20  WoodDeckSF     155 non-null    float64\n 21  YearBuilt      1460 non-null   int64  \n 22  YearRemodAdd   1460 non-null   int64  \n 23  SalePrice      1460 non-null   int64  \ndtypes: float64(7), int64(13), object(4)\nmemory usage: 273.9+ KB\n"
    }
   ]
  },
  {
   "cell_type": "markdown",
   "metadata": {},
   "source": [
    "Absolutely, here is a short bullet-point summary of the provided dataset:\n",
    "\n",
    "- The dataset is a DataFrame containing 1460 entries, each entry indexed from 0 to 1459.\n",
    "- The DataFrame consists of 24 columns, incorporating a mix of data types: integers (int64), floating-point numbers (float64), and objects (typically strings).\n",
    "- The columns range from housing features such as '1stFlrSF', '2ndFlrSF', 'BedroomAbvGr', 'BsmtExposure' to 'SalePrice'. Each column represents a different property attribute or characteristic.\n",
    "- The 'Non-Null Count' suggests that not all columns are fully populated with data - there are missing values in several columns, including '2ndFlrSF', 'BedroomAbvGr', 'BsmtExposure', 'BsmtFinType1', 'EnclosedPorch', 'GarageFinish', 'GarageYrBlt', 'LotFrontage', 'MasVnrArea', and 'WoodDeckSF'. Particularly, 'EnclosedPorch' and 'WoodDeckSF' have a significant number of missing values.\n",
    "- The dataset's memory usage is approximately 273.9 KB, indicating the memory that this DataFrame is occupying.\n",
    "- The 'SalePrice' column, being non-null for all entries, could be a potential target variable for predictive modeling, with the rest serving as feature variables.\n",
    "- Columns 'OverallCond', 'OverallQual', 'YearBuilt', and 'YearRemodAdd' might hold particular interest for analysis since these might directly relate to the 'SalePrice' (property's sale price).\n",
    "\n"
   ]
  },
  {
   "cell_type": "markdown",
   "metadata": {},
   "source": [
    "---"
   ]
  },
  {
   "cell_type": "markdown",
   "metadata": {
    "id": "ltNetd085qHf"
   },
   "source": [
    "# Push files to Repo"
   ]
  },
  {
   "cell_type": "markdown",
   "metadata": {},
   "source": [
    "* This dataset presents a solid starting point for a range of data science tasks, from data visualization to machine learning. The next steps should include careful data cleaning, preliminary exploratory data analysis, and eventually moving towards answering our core questions through in-depth analysis and modeling.\n",
    "\n",
    "The dataset will be pushed to the repository for further use in the data analysis pipeline."
   ]
  },
  {
   "cell_type": "code",
   "execution_count": 12,
   "metadata": {
    "id": "aKlnIozA4eQO",
    "outputId": "fd09bc1f-adb1-4511-f6ce-492a6af570c0"
   },
   "outputs": [],
   "source": [
    "import os\n",
    "try:\n",
    "  os.makedirs(name='outputs/datasets/collection')\n",
    "except Exception as e:\n",
    "  print(e)\n",
    "\n",
    "df.to_csv(f\"outputs/datasets/collection/HousePrices.csv\",index=False)"
   ]
  }
 ],
 "metadata": {
  "accelerator": "GPU",
  "colab": {
   "name": "Data Practitioner Jupyter Notebook.ipynb",
   "provenance": [],
   "toc_visible": true
  },
  "interpreter": {
   "hash": "8b8334dab9339717f727a1deaf837b322d7a41c20d15cc86be99a8e69ceec8ce"
  },
  "kernelspec": {
   "display_name": "Python 3 (ipykernel)",
   "language": "python",
   "name": "python3"
  },
  "language_info": {
   "codemirror_mode": {
    "name": "ipython",
    "version": 3
   },
   "file_extension": ".py",
   "mimetype": "text/x-python",
   "name": "python",
   "nbconvert_exporter": "python",
   "pygments_lexer": "ipython3",
   "version": "3.8.12-final"
  }
 },
 "nbformat": 4,
 "nbformat_minor": 2
}